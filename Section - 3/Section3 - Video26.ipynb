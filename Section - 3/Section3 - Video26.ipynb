{
 "cells": [
  {
   "cell_type": "markdown",
   "id": "69eac6b9",
   "metadata": {},
   "source": [
    "# Section 3 - Video #26 - Intro to Sympy, part 2"
   ]
  },
  {
   "cell_type": "code",
   "execution_count": 11,
   "id": "3590bad3",
   "metadata": {},
   "outputs": [],
   "source": [
    "import sympy as sym\n",
    "from IPython.display import display, Math\n",
    "sym.init_printing()"
   ]
  },
  {
   "cell_type": "code",
   "execution_count": 12,
   "id": "5edd7b60",
   "metadata": {},
   "outputs": [
    {
     "data": {
      "image/png": "[encoded data removed]",
      "text/latex": [
       "$\\displaystyle e^{\\frac{\\left(- \\alpha + \\mu\\right)^{2}}{2 \\sigma^{2}}}$"
      ],
      "text/plain": [
       "         2\n",
       " (-α + μ) \n",
       " ─────────\n",
       "       2  \n",
       "    2⋅σ   \n",
       "ℯ         "
      ]
     },
     "metadata": {},
     "output_type": "display_data"
    }
   ],
   "source": [
    "mu, alpha, sigma = sym.symbols('mu, alpha, sigma')\n",
    "\n",
    "expr = sym.exp( (mu - alpha)**2 / (2*sigma**2) )\n",
    "\n",
    "display(expr)"
   ]
  },
  {
   "cell_type": "code",
   "execution_count": 13,
   "id": "01ac54d7",
   "metadata": {},
   "outputs": [
    {
     "data": {
      "image/png": "[encoded data removed]",
      "text/latex": [
       "$\\displaystyle \\frac{hello}{3}$"
      ],
      "text/plain": [
       "hello\n",
       "─────\n",
       "  3  "
      ]
     },
     "execution_count": 13,
     "metadata": {},
     "output_type": "execute_result"
    }
   ],
   "source": [
    "hello = sym.symbols('hello')\n",
    "hello/3"
   ]
  },
  {
   "cell_type": "code",
   "execution_count": 19,
   "id": "ddb6d88d",
   "metadata": {},
   "outputs": [
    {
     "data": {
      "image/png": "[encoded data removed]",
      "text/latex": [
       "$\\displaystyle 6$"
      ],
      "text/plain": [
       "6"
      ]
     },
     "execution_count": 19,
     "metadata": {},
     "output_type": "execute_result"
    }
   ],
   "source": [
    "x,y = sym.symbols('x,y')\n",
    "expr = x+4+2*y\n",
    "expr.subs({x: -4, y:3})"
   ]
  },
  {
   "cell_type": "code",
   "execution_count": 22,
   "id": "c9846489",
   "metadata": {},
   "outputs": [
    {
     "data": {
      "text/latex": [
       "$\\displaystyle \\frac{3}{4}$"
      ],
      "text/plain": [
       "<IPython.core.display.Math object>"
      ]
     },
     "metadata": {},
     "output_type": "display_data"
    }
   ],
   "source": [
    "expr = 3/x\n",
    "\n",
    "display(\n",
    "    Math(\n",
    "        sym.latex(sym.sympify('3/4'))\n",
    "    )\n",
    ")"
   ]
  },
  {
   "cell_type": "markdown",
   "id": "5e5f8515",
   "metadata": {},
   "source": [
    "# Exercises"
   ]
  },
  {
   "cell_type": "code",
   "execution_count": 33,
   "id": "aa12ef40",
   "metadata": {},
   "outputs": [
    {
     "data": {
      "text/latex": [
       "$\\displaystyle \\text{With }x = -2\\text{: } x^{2} + 4\\quad \\Rightarrow \\quad-2^{2}+4=8 $"
      ],
      "text/plain": [
       "<IPython.core.display.Math object>"
      ]
     },
     "metadata": {},
     "output_type": "display_data"
    },
    {
     "data": {
      "text/latex": [
       "$\\displaystyle \\text{With }x = -1\\text{: } x^{2} + 4\\quad \\Rightarrow \\quad-1^{2}+4=5 $"
      ],
      "text/plain": [
       "<IPython.core.display.Math object>"
      ]
     },
     "metadata": {},
     "output_type": "display_data"
    },
    {
     "data": {
      "text/latex": [
       "$\\displaystyle \\text{With }x =  0\\text{: } x^{2} + 4\\quad \\Rightarrow \\quad0^{2}+4=4 $"
      ],
      "text/plain": [
       "<IPython.core.display.Math object>"
      ]
     },
     "metadata": {},
     "output_type": "display_data"
    },
    {
     "data": {
      "text/latex": [
       "$\\displaystyle \\text{With }x =  1\\text{: } x^{2} + 4\\quad \\Rightarrow \\quad1^{2}+4=5 $"
      ],
      "text/plain": [
       "<IPython.core.display.Math object>"
      ]
     },
     "metadata": {},
     "output_type": "display_data"
    },
    {
     "data": {
      "text/latex": [
       "$\\displaystyle \\text{With }x =  2\\text{: } x^{2} + 4\\quad \\Rightarrow \\quad2^{2}+4=8 $"
      ],
      "text/plain": [
       "<IPython.core.display.Math object>"
      ]
     },
     "metadata": {},
     "output_type": "display_data"
    }
   ],
   "source": [
    "expr = x**2 + 4\n",
    "\n",
    "for i in range(-2, 3):\n",
    "    display(\n",
    "        Math(\n",
    "            '\\\\text{With }x = %2.0g\\\\text{: } %s\\\\quad \\\\Rightarrow \\\\quad%d^{2}+4=%d ' %(i, sym.latex(expr), i, expr.subs(x, i))\n",
    "        )\n",
    "    )\n",
    "\n"
   ]
  }
 ],
 "metadata": {
  "kernelspec": {
   "display_name": "Python 3 (ipykernel)",
   "language": "python",
   "name": "python3"
  },
  "language_info": {
   "codemirror_mode": {
    "name": "ipython",
    "version": 3
   },
   "file_extension": ".py",
   "mimetype": "text/x-python",
   "name": "python",
   "nbconvert_exporter": "python",
   "pygments_lexer": "ipython3",
   "version": "3.11.5"
  }
 },
 "nbformat": 4,
 "nbformat_minor": 5
}
