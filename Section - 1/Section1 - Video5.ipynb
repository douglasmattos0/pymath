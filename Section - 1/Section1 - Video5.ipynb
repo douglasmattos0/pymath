{
 "cells": [
  {
   "cell_type": "markdown",
   "id": "8dced90d",
   "metadata": {},
   "source": [
    "# Section 1 - Video #5 - Getting help in Python"
   ]
  },
  {
   "cell_type": "code",
   "execution_count": 1,
   "id": "8c815dbd",
   "metadata": {},
   "outputs": [
    {
     "data": {
      "text/plain": [
       "4"
      ]
     },
     "execution_count": 1,
     "metadata": {},
     "output_type": "execute_result"
    }
   ],
   "source": [
    "abs(-4)"
   ]
  },
  {
   "cell_type": "code",
   "execution_count": null,
   "id": "d9516c03",
   "metadata": {},
   "outputs": [],
   "source": [
    "range()"
   ]
  }
 ],
 "metadata": {
  "kernelspec": {
   "display_name": "Python 3 (ipykernel)",
   "language": "python",
   "name": "python3"
  },
  "language_info": {
   "codemirror_mode": {
    "name": "ipython",
    "version": 3
   },
   "file_extension": ".py",
   "mimetype": "text/x-python",
   "name": "python",
   "nbconvert_exporter": "python",
   "pygments_lexer": "ipython3",
   "version": "3.9.13"
  }
 },
 "nbformat": 4,
 "nbformat_minor": 5
}
