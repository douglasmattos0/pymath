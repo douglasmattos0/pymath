{
 "cells": [
  {
   "cell_type": "markdown",
   "id": "69eac6b9",
   "metadata": {},
   "source": [
    "# Section 2 - Video #15 - Testing inequalities and Boolean data type"
   ]
  },
  {
   "cell_type": "code",
   "execution_count": 13,
   "id": "ce34ba8b",
   "metadata": {},
   "outputs": [
    {
     "name": "stdout",
     "output_type": "stream",
     "text": [
      "True\n",
      "<class 'bool'>\n"
     ]
    },
    {
     "data": {
      "text/plain": [
       "9.9999999999"
      ]
     },
     "execution_count": 13,
     "metadata": {},
     "output_type": "execute_result"
    }
   ],
   "source": [
    "b = 10 > 3*3.3333333333\n",
    "print(b)\n",
    "print( type(b) )\n",
    "3*3.3333333333"
   ]
  },
  {
   "cell_type": "code",
   "execution_count": 15,
   "id": "4f050778",
   "metadata": {},
   "outputs": [
    {
     "data": {
      "text/plain": [
       "False"
      ]
     },
     "execution_count": 15,
     "metadata": {},
     "output_type": "execute_result"
    }
   ],
   "source": [
    "4 >= 2+2+1"
   ]
  },
  {
   "cell_type": "code",
   "execution_count": 19,
   "id": "4880b308",
   "metadata": {},
   "outputs": [
    {
     "name": "stdout",
     "output_type": "stream",
     "text": [
      "True\n"
     ]
    }
   ],
   "source": [
    "theTest = 4 == 2 + 2\n",
    "\n",
    "print(theTest)"
   ]
  },
  {
   "cell_type": "markdown",
   "id": "5e5f8515",
   "metadata": {},
   "source": [
    "# Exercises\n",
    "\n",
    "$x=2, x=3, x=4$\n",
    "\n",
    "$1)$ $4x + 3 < 17-x^2$\n",
    "\n",
    "$2)$ $8x-2 \\le-3x+42$"
   ]
  },
  {
   "cell_type": "code",
   "execution_count": 23,
   "id": "e61cd688",
   "metadata": {},
   "outputs": [
    {
     "name": "stdout",
     "output_type": "stream",
     "text": [
      "True\n",
      "False\n",
      "False\n"
     ]
    }
   ],
   "source": [
    "# Exercise 1\n",
    "for i in range(2, 5):\n",
    "    print(4*i+3 < 17 - i**2)\n"
   ]
  },
  {
   "cell_type": "code",
   "execution_count": 24,
   "id": "d508ca70",
   "metadata": {},
   "outputs": [
    {
     "name": "stdout",
     "output_type": "stream",
     "text": [
      "True\n",
      "True\n",
      "True\n"
     ]
    }
   ],
   "source": [
    "# Exercise 2\n",
    "for i in range(2, 5):\n",
    "    print(8*i -2 <= -3*i + 42)\n"
   ]
  }
 ],
 "metadata": {
  "kernelspec": {
   "display_name": "Python 3 (ipykernel)",
   "language": "python",
   "name": "python3"
  },
  "language_info": {
   "codemirror_mode": {
    "name": "ipython",
    "version": 3
   },
   "file_extension": ".py",
   "mimetype": "text/x-python",
   "name": "python",
   "nbconvert_exporter": "python",
   "pygments_lexer": "ipython3",
   "version": "3.9.13"
  }
 },
 "nbformat": 4,
 "nbformat_minor": 5
}
