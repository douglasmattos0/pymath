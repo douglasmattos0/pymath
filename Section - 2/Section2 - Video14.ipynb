{
 "cells": [
  {
   "cell_type": "markdown",
   "id": "69eac6b9",
   "metadata": {},
   "source": [
    "# Section 2 - Video #14 - Order of operations"
   ]
  },
  {
   "cell_type": "code",
   "execution_count": 4,
   "id": "ce34ba8b",
   "metadata": {},
   "outputs": [
    {
     "name": "stdout",
     "output_type": "stream",
     "text": [
      "7\n"
     ]
    }
   ],
   "source": [
    "print( (4+3) * (2-1) )"
   ]
  },
  {
   "cell_type": "markdown",
   "id": "5e5f8515",
   "metadata": {},
   "source": [
    "# Exercises\n",
    "\n",
    "$1)$ $4\\times {5}/{7} + 3 = 2$\n",
    "\n",
    "$2)$ ${9}/{3}+6 - 1 = 0$"
   ]
  },
  {
   "cell_type": "code",
   "execution_count": 11,
   "id": "e61cd688",
   "metadata": {},
   "outputs": [
    {
     "data": {
      "text/latex": [
       "$\\displaystyle 4 \\times {5}/({7} + 3) = 2$"
      ],
      "text/plain": [
       "<IPython.core.display.Math object>"
      ]
     },
     "metadata": {},
     "output_type": "display_data"
    }
   ],
   "source": [
    "from IPython.display import display, Math\n",
    "\n",
    "# Exercise 1\n",
    "ans = 4*5/(7+3)\n",
    "\n",
    "display(\n",
    "    Math(\n",
    "        '4 \\\\times {5}/({7} + 3) = %g' %ans\n",
    "    )\n",
    ")\n"
   ]
  },
  {
   "cell_type": "code",
   "execution_count": 16,
   "id": "d508ca70",
   "metadata": {},
   "outputs": [
    {
     "data": {
      "text/latex": [
       "$\\displaystyle {9}/{(3+6)} - 1 = 0$"
      ],
      "text/plain": [
       "<IPython.core.display.Math object>"
      ]
     },
     "metadata": {},
     "output_type": "display_data"
    }
   ],
   "source": [
    "# Exercise 2\n",
    "ans = 9/(3+6)-1\n",
    "\n",
    "display(\n",
    "    Math(\n",
    "        '{9}/{(3+6)} - 1 = %g' %ans\n",
    "    )\n",
    ")"
   ]
  },
  {
   "cell_type": "code",
   "execution_count": null,
   "id": "ee1f4bcf",
   "metadata": {},
   "outputs": [],
   "source": []
  }
 ],
 "metadata": {
  "kernelspec": {
   "display_name": "Python 3 (ipykernel)",
   "language": "python",
   "name": "python3"
  },
  "language_info": {
   "codemirror_mode": {
    "name": "ipython",
    "version": 3
   },
   "file_extension": ".py",
   "mimetype": "text/x-python",
   "name": "python",
   "nbconvert_exporter": "python",
   "pygments_lexer": "ipython3",
   "version": "3.9.13"
  }
 },
 "nbformat": 4,
 "nbformat_minor": 5
}
