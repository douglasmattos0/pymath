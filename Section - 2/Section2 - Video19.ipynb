{
 "cells": [
  {
   "cell_type": "markdown",
   "id": "69eac6b9",
   "metadata": {},
   "source": [
    "# Section 2 - Video #19 - Create interactive math functions, part 1"
   ]
  },
  {
   "cell_type": "code",
   "execution_count": 5,
   "id": "ce34ba8b",
   "metadata": {},
   "outputs": [],
   "source": [
    "def computeremainder(x, y):\n",
    "    divis = int(x/y)\n",
    "    remainder = x%y\n",
    "\n",
    "    print('%g goes into %g, %g times with a remainder of %g' %(y, x, divis, remainder))"
   ]
  },
  {
   "cell_type": "code",
   "execution_count": 7,
   "id": "3590bad3",
   "metadata": {},
   "outputs": [
    {
     "name": "stdout",
     "output_type": "stream",
     "text": [
      "3 goes into 10, 3 times with a remainder of 1\n"
     ]
    }
   ],
   "source": [
    "computeremainder(10, 3)"
   ]
  },
  {
   "cell_type": "code",
   "execution_count": 9,
   "id": "25fac067",
   "metadata": {},
   "outputs": [],
   "source": [
    "def divisionWithInput():\n",
    "    \n",
    "    x = int( input('Input the numerator:') )\n",
    "    y = int( input('Input the denominator:') )\n",
    "\n",
    "    divis = int(x/y)\n",
    "    remainder = x%y\n",
    "\n",
    "    print('%g goes into %g, %g times with a remainder of %g' %(y, x, divis, remainder))"
   ]
  },
  {
   "cell_type": "code",
   "execution_count": 10,
   "id": "efd2ea4a",
   "metadata": {},
   "outputs": [
    {
     "name": "stdout",
     "output_type": "stream",
     "text": [
      "4 goes into 10, 2 times with a remainder of 2\n"
     ]
    }
   ],
   "source": [
    "divisionWithInput()"
   ]
  },
  {
   "cell_type": "markdown",
   "id": "5e5f8515",
   "metadata": {},
   "source": [
    "# Exercises"
   ]
  },
  {
   "cell_type": "code",
   "execution_count": null,
   "id": "e61cd688",
   "metadata": {},
   "outputs": [],
   "source": [
    "\n"
   ]
  }
 ],
 "metadata": {
  "kernelspec": {
   "display_name": "Python 3 (ipykernel)",
   "language": "python",
   "name": "python3"
  },
  "language_info": {
   "codemirror_mode": {
    "name": "ipython",
    "version": 3
   },
   "file_extension": ".py",
   "mimetype": "text/x-python",
   "name": "python",
   "nbconvert_exporter": "python",
   "pygments_lexer": "ipython3",
   "version": "3.9.13"
  }
 },
 "nbformat": 4,
 "nbformat_minor": 5
}
