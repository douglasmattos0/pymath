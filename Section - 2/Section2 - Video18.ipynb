{
 "cells": [
  {
   "cell_type": "markdown",
   "id": "69eac6b9",
   "metadata": {},
   "source": [
    "# Section 2 - Video #18 - Remainder after division (modulus)"
   ]
  },
  {
   "cell_type": "code",
   "execution_count": 2,
   "id": "ce34ba8b",
   "metadata": {},
   "outputs": [
    {
     "data": {
      "text/plain": [
       "3"
      ]
     },
     "execution_count": 2,
     "metadata": {},
     "output_type": "execute_result"
    }
   ],
   "source": [
    "a = 10\n",
    "b = 3\n",
    "\n",
    "# integer division\n",
    "int(a/b)"
   ]
  },
  {
   "cell_type": "code",
   "execution_count": 3,
   "id": "2f7ae55a",
   "metadata": {},
   "outputs": [
    {
     "data": {
      "text/plain": [
       "1"
      ]
     },
     "execution_count": 3,
     "metadata": {},
     "output_type": "execute_result"
    }
   ],
   "source": [
    "a%b"
   ]
  },
  {
   "cell_type": "code",
   "execution_count": 8,
   "id": "e627b47f",
   "metadata": {},
   "outputs": [
    {
     "name": "stdout",
     "output_type": "stream",
     "text": [
      "3633 goes into 1.12874e+09, 310690 times with a remainder of 2506.\n"
     ]
    }
   ],
   "source": [
    "a = 1128739276\n",
    "b = 3633\n",
    "\n",
    "divis = int(a/b)\n",
    "remainder = a%b\n",
    "\n",
    "print('%g goes into %g, %g times with a remainder of %g.' %(b, a, divis, remainder))"
   ]
  },
  {
   "cell_type": "markdown",
   "id": "5e5f8515",
   "metadata": {},
   "source": [
    "# Exercises"
   ]
  },
  {
   "cell_type": "code",
   "execution_count": 15,
   "id": "e61cd688",
   "metadata": {},
   "outputs": [
    {
     "name": "stdout",
     "output_type": "stream",
     "text": [
      "-5 is an odd  number\n",
      "-4 is an even number\n",
      "-3 is an odd  number\n",
      "-2 is an even number\n",
      "-1 is an odd  number\n",
      " 0 is an even number\n",
      " 1 is an odd  number\n",
      " 2 is an even number\n",
      " 3 is an odd  number\n",
      " 4 is an even number\n",
      " 5 is an odd  number\n"
     ]
    }
   ],
   "source": [
    "for i in range(-5, 6):\n",
    "    if i%2 == 0:\n",
    "        print('%2.0g is an even number' %i)\n",
    "    else:\n",
    "        print('%2.0g is an odd  number' %i)\n"
   ]
  }
 ],
 "metadata": {
  "kernelspec": {
   "display_name": "Python 3 (ipykernel)",
   "language": "python",
   "name": "python3"
  },
  "language_info": {
   "codemirror_mode": {
    "name": "ipython",
    "version": 3
   },
   "file_extension": ".py",
   "mimetype": "text/x-python",
   "name": "python",
   "nbconvert_exporter": "python",
   "pygments_lexer": "ipython3",
   "version": "3.9.13"
  }
 },
 "nbformat": 4,
 "nbformat_minor": 5
}
