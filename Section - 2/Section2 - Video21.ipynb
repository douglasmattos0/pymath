{
 "cells": [
  {
   "cell_type": "markdown",
   "id": "69eac6b9",
   "metadata": {},
   "source": [
    "# Section 2 - Video #21 - Create interactive math functions, part 3"
   ]
  },
  {
   "cell_type": "code",
   "execution_count": null,
   "id": "3590bad3",
   "metadata": {},
   "outputs": [],
   "source": []
  },
  {
   "cell_type": "markdown",
   "id": "5e5f8515",
   "metadata": {},
   "source": [
    "# Exercises"
   ]
  },
  {
   "cell_type": "code",
   "execution_count": 3,
   "id": "e61cd688",
   "metadata": {},
   "outputs": [],
   "source": [
    "\n",
    "from numpy import random\n",
    "\n",
    "def guessTheNumber():\n",
    "\n",
    "    myNum = random.randint(1, 101)\n",
    "        \n",
    "    choose = int( input('Guess a number between 1 and 100 ') )\n",
    "    while( choose != myNum):\n",
    "        if choose < myNum:\n",
    "            print('Guess higher!')\n",
    "        elif choose > myNum:\n",
    "            print('Guess lower!')\n",
    "        choose = int( input('Guess again ') )\n",
    "\n",
    "    print('Got it! The right number was %g and your final guess was %g' %(myNum, choose))\n"
   ]
  },
  {
   "cell_type": "code",
   "execution_count": 4,
   "id": "3aac5310",
   "metadata": {},
   "outputs": [
    {
     "name": "stdout",
     "output_type": "stream",
     "text": [
      "Guess lower!\n",
      "Guess lower!\n",
      "Guess lower!\n",
      "Guess lower!\n",
      "Guess lower!\n",
      "Guess higher!\n",
      "Guess higher!\n",
      "Guess higher!\n",
      "Guess higher!\n",
      "Got it! The right number was 9 and your final guess was 9\n"
     ]
    }
   ],
   "source": [
    "guessTheNumber()"
   ]
  },
  {
   "cell_type": "code",
   "execution_count": null,
   "id": "8b99c912",
   "metadata": {},
   "outputs": [],
   "source": []
  }
 ],
 "metadata": {
  "kernelspec": {
   "display_name": "Python 3 (ipykernel)",
   "language": "python",
   "name": "python3"
  },
  "language_info": {
   "codemirror_mode": {
    "name": "ipython",
    "version": 3
   },
   "file_extension": ".py",
   "mimetype": "text/x-python",
   "name": "python",
   "nbconvert_exporter": "python",
   "pygments_lexer": "ipython3",
   "version": "3.9.13"
  }
 },
 "nbformat": 4,
 "nbformat_minor": 5
}
