{
 "cells": [
  {
   "cell_type": "markdown",
   "id": "69eac6b9",
   "metadata": {},
   "source": [
    "# Section 2 - Video #20 - Create interactive math functions, part 2"
   ]
  },
  {
   "cell_type": "code",
   "execution_count": 5,
   "id": "ce34ba8b",
   "metadata": {},
   "outputs": [],
   "source": []
  },
  {
   "cell_type": "markdown",
   "id": "5e5f8515",
   "metadata": {},
   "source": [
    "# Exercises"
   ]
  },
  {
   "cell_type": "code",
   "execution_count": 8,
   "id": "e61cd688",
   "metadata": {},
   "outputs": [],
   "source": [
    "from IPython.display import display, Math\n",
    "\n",
    "# creating the functions\n",
    "\n",
    "def power(x, y):\n",
    "    display(\n",
    "        Math(\n",
    "            '%g^{%g} = %g' %(x, y, x**y)\n",
    "        )\n",
    "    )\n",
    "\n",
    "def division(x, y):\n",
    "    display(\n",
    "        Math(\n",
    "            '\\\\frac{%g}{%g} = %g' %(x, y, x/y)\n",
    "        )\n",
    "    )\n",
    "\n",
    "def main():\n",
    "    x = float( input('input X: ') )\n",
    "    y = float( input('input Y: ') )\n",
    "\n",
    "    display(\n",
    "        Math(\n",
    "            '\\\\text{Press \"1\" to compute } %g^{%g} \\\\text{ or \"2\" to compute } \\\\frac{%g}{%g}' %(x, y, x, y)\n",
    "        )\n",
    "    )    \n",
    "    choose = int( input() )\n",
    "\n",
    "    if choose == 1:\n",
    "        power(x, y)\n",
    "    elif choose == 2:\n",
    "        division(x, y)\n",
    "    else:\n",
    "        print('Invalid selection!')\n",
    "\n"
   ]
  },
  {
   "cell_type": "code",
   "execution_count": 10,
   "id": "406938ae",
   "metadata": {},
   "outputs": [
    {
     "data": {
      "text/latex": [
       "$\\displaystyle \\text{Press \"1\" to compute } 3^{5} \\text{ or \"2\" to compute } \\frac{3}{5}$"
      ],
      "text/plain": [
       "<IPython.core.display.Math object>"
      ]
     },
     "metadata": {},
     "output_type": "display_data"
    },
    {
     "name": "stdout",
     "output_type": "stream",
     "text": [
      "Invalid selection!\n"
     ]
    }
   ],
   "source": [
    "main()"
   ]
  }
 ],
 "metadata": {
  "kernelspec": {
   "display_name": "Python 3 (ipykernel)",
   "language": "python",
   "name": "python3"
  },
  "language_info": {
   "codemirror_mode": {
    "name": "ipython",
    "version": 3
   },
   "file_extension": ".py",
   "mimetype": "text/x-python",
   "name": "python",
   "nbconvert_exporter": "python",
   "pygments_lexer": "ipython3",
   "version": "3.9.13"
  }
 },
 "nbformat": 4,
 "nbformat_minor": 5
}
