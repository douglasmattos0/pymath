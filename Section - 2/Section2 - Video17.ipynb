{
 "cells": [
  {
   "cell_type": "markdown",
   "id": "69eac6b9",
   "metadata": {},
   "source": [
    "# Section 2 - Video #17 - Absolute value"
   ]
  },
  {
   "cell_type": "code",
   "execution_count": 1,
   "id": "ce34ba8b",
   "metadata": {},
   "outputs": [
    {
     "data": {
      "text/plain": [
       "(-4, 4)"
      ]
     },
     "execution_count": 1,
     "metadata": {},
     "output_type": "execute_result"
    }
   ],
   "source": [
    "a = -4\n",
    "b = abs(a)\n",
    "a, b"
   ]
  },
  {
   "cell_type": "code",
   "execution_count": 2,
   "id": "ac9323df",
   "metadata": {},
   "outputs": [
    {
     "data": {
      "text/latex": [
       "$\\displaystyle |-4.3| = 4.3$"
      ],
      "text/plain": [
       "<IPython.core.display.Math object>"
      ]
     },
     "metadata": {},
     "output_type": "display_data"
    }
   ],
   "source": [
    "from IPython.display import display, Math\n",
    "\n",
    "x = -4.3\n",
    "display(\n",
    "    Math(\n",
    "        '|%g| = %g' %(x, abs(x))\n",
    "    )\n",
    ")"
   ]
  },
  {
   "cell_type": "markdown",
   "id": "5e5f8515",
   "metadata": {},
   "source": [
    "# Exercises\n",
    "\n",
    "### Your mission: ###\n",
    "    Print the absolute value of each of a set of\n",
    "    numbers only if each number is <-5 or >2\n",
    "\n",
    "### Number set:###\n",
    "    -4, 6, -1, 43, -18, 2, 0\n",
    "\n",
    "### Output: ###\n",
    "    -4 was not tested.\n",
    "    Absolute value of 6 is 6."
   ]
  },
  {
   "cell_type": "code",
   "execution_count": 16,
   "id": "e61cd688",
   "metadata": {},
   "outputs": [
    {
     "name": "stdout",
     "output_type": "stream",
     "text": [
      "-4 was not tested.\n",
      "Absolute value of 6 is 6.\n",
      "-1 was not tested.\n",
      "Absolute value of 43 is 43.\n",
      "Absolute value of -18 is 18.\n",
      "2 was not tested.\n",
      "0 was not tested.\n"
     ]
    }
   ],
   "source": [
    "for i in [-4, 6, -1, 43, -18, 2, 0]:\n",
    "    if i < -5 or i > 2:\n",
    "        print('Absolute value of %g is %g.' %(i, abs(i)))\n",
    "    else:\n",
    "        print('%g was not tested.' %i)\n"
   ]
  }
 ],
 "metadata": {
  "kernelspec": {
   "display_name": "Python 3 (ipykernel)",
   "language": "python",
   "name": "python3"
  },
  "language_info": {
   "codemirror_mode": {
    "name": "ipython",
    "version": 3
   },
   "file_extension": ".py",
   "mimetype": "text/x-python",
   "name": "python",
   "nbconvert_exporter": "python",
   "pygments_lexer": "ipython3",
   "version": "3.9.13"
  }
 },
 "nbformat": 4,
 "nbformat_minor": 5
}
