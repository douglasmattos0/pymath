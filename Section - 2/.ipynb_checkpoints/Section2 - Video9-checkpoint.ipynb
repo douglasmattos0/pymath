{
 "cells": [
  {
   "cell_type": "markdown",
   "id": "8441291c",
   "metadata": {},
   "source": [
    "# Section 2 - Video #9 - Using variables in place of numbers"
   ]
  },
  {
   "cell_type": "code",
   "execution_count": 2,
   "id": "59e4be3b",
   "metadata": {},
   "outputs": [
    {
     "data": {
      "text/plain": [
       "7"
      ]
     },
     "execution_count": 2,
     "metadata": {},
     "output_type": "execute_result"
    }
   ],
   "source": [
    "x = 7\n",
    "x"
   ]
  },
  {
   "cell_type": "code",
   "execution_count": 4,
   "id": "29791870",
   "metadata": {},
   "outputs": [
    {
     "data": {
      "text/plain": [
       "5"
      ]
     },
     "execution_count": 4,
     "metadata": {},
     "output_type": "execute_result"
    }
   ],
   "source": [
    "x - 2"
   ]
  },
  {
   "cell_type": "code",
   "execution_count": 6,
   "id": "8347ee34",
   "metadata": {},
   "outputs": [
    {
     "data": {
      "text/plain": [
       "10"
      ]
     },
     "execution_count": 6,
     "metadata": {},
     "output_type": "execute_result"
    }
   ],
   "source": [
    "x = 10\n",
    "x"
   ]
  },
  {
   "cell_type": "code",
   "execution_count": 9,
   "id": "bf6cccc5",
   "metadata": {},
   "outputs": [
    {
     "data": {
      "text/plain": [
       "-20"
      ]
     },
     "execution_count": 9,
     "metadata": {},
     "output_type": "execute_result"
    }
   ],
   "source": [
    "x = x - 2*5\n",
    "x"
   ]
  },
  {
   "cell_type": "code",
   "execution_count": 16,
   "id": "b374b542",
   "metadata": {},
   "outputs": [
    {
     "name": "stdout",
     "output_type": "stream",
     "text": [
      "630\n",
      "-610\n"
     ]
    }
   ],
   "source": [
    "x = 10\n",
    "y = 20\n",
    "z = 31\n",
    "\n",
    "print( x + y*z )\n",
    "print( x - y*z )"
   ]
  },
  {
   "cell_type": "code",
   "execution_count": 17,
   "id": "92a0c95c",
   "metadata": {},
   "outputs": [
    {
     "data": {
      "text/plain": [
       "44"
      ]
     },
     "execution_count": 17,
     "metadata": {},
     "output_type": "execute_result"
    }
   ],
   "source": [
    "NumberOfChocolateBars = .5\n",
    "spike = 34\n",
    "\n",
    "mike + spike"
   ]
  },
  {
   "cell_type": "markdown",
   "id": "f70ca623",
   "metadata": {},
   "source": [
    "# Exercises\n",
    "\n",
    "$x=7, y=-2, z=5$\n",
    "\n",
    "1) $3x(4+y)=42$\n",
    "\n",
    "2) $-y-\\frac{x+3}{z}=0$"
   ]
  },
  {
   "cell_type": "code",
   "execution_count": 29,
   "id": "2dc97165",
   "metadata": {},
   "outputs": [
    {
     "name": "stdout",
     "output_type": "stream",
     "text": [
      "42\n"
     ]
    }
   ],
   "source": [
    "x = 7\n",
    "y = -2\n",
    "z = 5\n",
    "\n",
    "# Exercise 1\n",
    "print( 3*x*(4+y) )"
   ]
  },
  {
   "cell_type": "code",
   "execution_count": 30,
   "id": "54588353",
   "metadata": {},
   "outputs": [
    {
     "name": "stdout",
     "output_type": "stream",
     "text": [
      "0.0\n"
     ]
    }
   ],
   "source": [
    "# Exercise 2\n",
    "print( -y-((x+3)/z))"
   ]
  },
  {
   "cell_type": "code",
   "execution_count": null,
   "id": "1a409915",
   "metadata": {},
   "outputs": [],
   "source": []
  }
 ],
 "metadata": {
  "kernelspec": {
   "display_name": "Python 3 (ipykernel)",
   "language": "python",
   "name": "python3"
  },
  "language_info": {
   "codemirror_mode": {
    "name": "ipython",
    "version": 3
   },
   "file_extension": ".py",
   "mimetype": "text/x-python",
   "name": "python",
   "nbconvert_exporter": "python",
   "pygments_lexer": "ipython3",
   "version": "3.9.13"
  }
 },
 "nbformat": 4,
 "nbformat_minor": 5
}
